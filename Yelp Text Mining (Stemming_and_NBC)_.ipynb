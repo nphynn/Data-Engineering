{
  "nbformat": 4,
  "nbformat_minor": 0,
  "metadata": {
    "colab": {
      "provenance": []
    },
    "kernelspec": {
      "name": "python3",
      "display_name": "Python 3"
    },
    "language_info": {
      "name": "python"
    }
  },
  "cells": [
    {
      "cell_type": "code",
      "execution_count": null,
      "metadata": {
        "id": "RKif2nqoufXN"
      },
      "outputs": [],
      "source": [
        "## Load Python Libraries\n",
        "\n",
        "import pandas as pd\n",
        "import numpy as np\n",
        "import matplotlib.pyplot as plt\n",
        "from sklearn.feature_extraction.text import CountVectorizer, TfidfVectorizer\n",
        "import nltk"
      ]
    },
    {
      "cell_type": "code",
      "source": [
        "## Load Yelp Dataset and Vectorization\n",
        "\n",
        "yelp = pd.read_csv('https://raw.githubusercontent.com/sinanuozdemir/sfdat22/master/data/yelp.csv', encoding = \"ISO-8859-1\")\n",
        "reviews = yelp['text']\n",
        "vectorizer = CountVectorizer(encoding='utf-8')\n",
        "review_words = vectorizer.fit_transform(reviews)\n",
        "review_words[:3]\n",
        "print(len(vectorizer.vocabulary_))"
      ],
      "metadata": {
        "id": "HMWu9WAcvwWR"
      },
      "execution_count": null,
      "outputs": []
    },
    {
      "cell_type": "code",
      "source": [
        "# Counting the frequency of each words\n",
        "print(list(vectorizer.vocabulary_.items()))"
      ],
      "metadata": {
        "id": "rZVZEpzE3lUN"
      },
      "execution_count": null,
      "outputs": []
    },
    {
      "cell_type": "code",
      "source": [
        "## Stop Words Removal and Stemming/Lemmatization\n",
        "\n",
        "vectorizer_stopwords = CountVectorizer(encoding='utf-8', stop_words=\"english\", lowercase=True)\n",
        "review_words_stopwords = vectorizer_stopwords.fit_transform(reviews)\n",
        "\n",
        "from nltk.stem.snowball import SnowballStemmer\n",
        "import re\n",
        "sno = nltk.stem.SnowballStemmer('english')\n",
        "\n",
        "def stemming_tokenizer(str_input):\n",
        "  words = re.sub(r\"[^A-Za-z0-9\\-]\", \" \", str_input).lower().split()\n",
        "  words = [sno.stem(word) for word in words]\n",
        "  return words\n",
        "\n",
        "vectorizer_stem = CountVectorizer(encoding='utf-8', stop_words='english', lowercase=True, tokenizer=stemming_tokenizer)\n",
        "review_words_stem = vectorizer_stem.fit_transform(reviews)\n",
        "print(len(vectorizer_stem.vocabulary_))"
      ],
      "metadata": {
        "id": "K4YrZ9k7xUkY"
      },
      "execution_count": null,
      "outputs": []
    },
    {
      "cell_type": "code",
      "source": [
        "## Naive Bayes Modeling\n",
        "\n",
        "X = yelp['text'].values\n",
        "Y = yelp['stars'].values\n",
        "from sklearn.model_selection import train_test_split\n",
        "X_train, X_test, y_train, y_test = train_test_split(X, Y, test_size=0.3, random_state=8)\n",
        "X_train_vec_nb = vectorizer_stopwords.fit_transform(X_train)\n",
        "X_test_vec_nb = vectorizer_stopwords.transform(X_test)"
      ],
      "metadata": {
        "id": "_ENqV2IPzxSE"
      },
      "execution_count": null,
      "outputs": []
    },
    {
      "cell_type": "code",
      "source": [
        "##  Model Evaluation\n",
        "\n",
        "from sklearn.naive_bayes import MultinomialNB\n",
        "nb_clf = MultinomialNB()\n",
        "nb_clf.fit(X_train_vec_nb, y_train)\n",
        "\n",
        "\n",
        "from sklearn.metrics import confusion_matrix, classification_report\n",
        "y_pred_mnb = nb_clf.predict(X_test_vec_nb)\n",
        "confusion_matrix(y_test, y_pred_mnb, labels=[1, 2, 3, 4, 5])"
      ],
      "metadata": {
        "id": "Nz6Rh8dS06iI"
      },
      "execution_count": null,
      "outputs": []
    },
    {
      "cell_type": "code",
      "source": [
        "print(classification_report(y_test, y_pred_mnb))"
      ],
      "metadata": {
        "id": "meF74WaH5HRa"
      },
      "execution_count": null,
      "outputs": []
    }
  ]
}