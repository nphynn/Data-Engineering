{
  "nbformat": 4,
  "nbformat_minor": 0,
  "metadata": {
    "colab": {
      "provenance": []
    },
    "kernelspec": {
      "name": "python3",
      "display_name": "Python 3"
    },
    "language_info": {
      "name": "python"
    }
  },
  "cells": [
    {
      "cell_type": "code",
      "execution_count": null,
      "metadata": {
        "id": "SHpO1VycvhOp"
      },
      "outputs": [],
      "source": [
        "## Import Python Packages\n",
        "\n",
        "import pandas as pd\n",
        "import numpy as np\n",
        "import matplotlib.pyplot as plt\n",
        "import seaborn as sns\n",
        "from sklearn.model_selection import train_test_split, GridSearchCV, cross_val_score, ShuffleSplit\n",
        "from sklearn import metrics\n",
        "from sklearn.naive_bayes import GaussianNB, BernoulliNB, MultinomialNB\n",
        "from sklearn.preprocessing import StandardScaler"
      ]
    },
    {
      "cell_type": "code",
      "source": [
        "# Data Load\n",
        "bank = pd.read_csv(\"https://raw.githubusercontent.com/z-o-e/bank_data_analysis/master/bank-full.csv\", sep=';')\n",
        "bank.info()"
      ],
      "metadata": {
        "id": "K2_yHQ0-voEp"
      },
      "execution_count": null,
      "outputs": []
    },
    {
      "cell_type": "code",
      "source": [
        "# Naive Bayes Classifier\n",
        "bank.isna().sum().sum()\n",
        "bank.duplicated().sum()\n",
        "X = bank.iloc[:, :-1].select_dtypes('number')\n",
        "X = StandardScaler().fit_transform(X)\n",
        "pd.DataFrame(X).applymap(lambda x: abs(x))\n",
        "y = bank.iloc[:, -1]\n",
        "X.shape\n",
        "y.shape\n",
        "type(y)\n",
        "\n",
        "bnb = BernoulliNB()\n",
        "bnb_pred = bnb.fit(X, y).predict(X)\n",
        "metrics.accuracy_score(y, bnb_pred)"
      ],
      "metadata": {
        "id": "ZMhD5ditvoLO"
      },
      "execution_count": null,
      "outputs": []
    }
  ]
}