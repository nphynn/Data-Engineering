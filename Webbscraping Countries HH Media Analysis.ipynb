{
  "nbformat": 4,
  "nbformat_minor": 0,
  "metadata": {
    "colab": {
      "provenance": []
    },
    "kernelspec": {
      "name": "python3",
      "display_name": "Python 3"
    },
    "language_info": {
      "name": "python"
    }
  },
  "cells": [
    {
      "cell_type": "code",
      "source": [
        "#Libraries\n",
        "import pandas as pd\n",
        "from bs4 import BeautifulSoup\n",
        "import requests"
      ],
      "metadata": {
        "id": "WuGYmIfR4M9f"
      },
      "execution_count": null,
      "outputs": []
    },
    {
      "cell_type": "code",
      "source": [
        "#Requesting content from website\n",
        "res = requests.get(\"https://www.nationmaster.com/country-info/stats/Media/Households-with-television\", verify= False)\n",
        "res\n",
        "res.content"
      ],
      "metadata": {
        "id": "35Z82PSJ5AgM"
      },
      "execution_count": null,
      "outputs": []
    },
    {
      "cell_type": "code",
      "source": [
        "#Parsing the html document\n",
        "soup = BeautifulSoup(res.content, 'lxml')\n",
        "print(soup.prettify())\n",
        "table = soup.find_all('table')[0]"
      ],
      "metadata": {
        "id": "LXwqoRQA6LZO"
      },
      "execution_count": null,
      "outputs": []
    },
    {
      "cell_type": "code",
      "source": [
        "# Dataframe\n",
        "df = pd.read_html(str(table))[0]\n",
        "df.head()"
      ],
      "metadata": {
        "id": "i3rFaDCw7Tdb"
      },
      "execution_count": null,
      "outputs": []
    },
    {
      "cell_type": "code",
      "source": [
        "#Data Wrangling\n",
        "df1 = df[['COUNTRY','AMOUNT', 'DATE']]\n",
        "df1.head()\n",
        "\n",
        "df2 = df.drop(columns = ['GRAPH', 'HISTORY','#'])\n",
        "df2.head()\n",
        "\n",
        "df3 = df1.copy()\n",
        "df3.rename(columns = {'COUNTRY': 'country', 'AMOUNT': 'hld_w_tv', 'DATE': 'year'}, inplace = True)\n",
        "df3.head()\n",
        "df3.dtypes"
      ],
      "metadata": {
        "id": "vZVnWubN77Lm"
      },
      "execution_count": null,
      "outputs": []
    },
    {
      "cell_type": "code",
      "source": [
        "##Convert hld_w_tv column into numerical values\n",
        "df3['hld_w_tv'] = pd.to_numeric(df3.hld_w_tv.str.replace(\"%\",\"\"))\n",
        "df3\n",
        "df3.describe()"
      ],
      "metadata": {
        "id": "NZ_B1cVt9eVB"
      },
      "execution_count": null,
      "outputs": []
    },
    {
      "cell_type": "code",
      "source": [
        "#One country data\n",
        "df3[df3.country == 'Greece']"
      ],
      "metadata": {
        "id": "UgeFngWD904g"
      },
      "execution_count": null,
      "outputs": []
    },
    {
      "cell_type": "code",
      "execution_count": null,
      "metadata": {
        "id": "sdk5ASAB0xWg"
      },
      "outputs": [],
      "source": [
        "#Histogram\n",
        "import matplotlib.pyplot as plt\n",
        "plt.hist(df3.hld_w_tv, bins = 200)\n",
        "plt.show()"
      ]
    }
  ]
}