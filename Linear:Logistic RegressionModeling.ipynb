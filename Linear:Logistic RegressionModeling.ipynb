{
  "nbformat": 4,
  "nbformat_minor": 0,
  "metadata": {
    "colab": {
      "provenance": []
    },
    "kernelspec": {
      "name": "python3",
      "display_name": "Python 3"
    },
    "language_info": {
      "name": "python"
    }
  },
  "cells": [
    {
      "cell_type": "code",
      "execution_count": null,
      "metadata": {
        "id": "QCjCYSVBNNfF"
      },
      "outputs": [],
      "source": [
        "## Import Python Libraries\n",
        "\n",
        "import pandas as pd\n",
        "import numpy as np\n",
        "import seaborn as sns\n",
        "import matplotlib.pyplot as plt\n",
        "from sklearn.datasets import load_boston\n",
        "from sklearn.preprocessing import StandardScaler\n",
        "from sklearn.model_selection import train_test_split\n",
        "from sklearn import metrics\n",
        "from sklearn.linear_model import LinearRegression, LogisticRegression\n",
        "from sklearn.pipeline import make_pipeline"
      ]
    },
    {
      "cell_type": "code",
      "source": [
        "## Data Loading and Preprocessing\n",
        "\n",
        "boston = load_boston()\n",
        "boston_data = pd.DataFrame(boston.data, columns = boston.feature_names)\n",
        "boston_data['Price'] = boston.target\n",
        "X = boston_data.drop('Price', axis=1)\n",
        "y = boston_data['Price']\n",
        "X_train, X_test, y_train, y_test = train_test_split(X, y, test_size=0.3, random_state=16)\n",
        "boston_data.info()"
      ],
      "metadata": {
        "id": "X52NVJoqOUCH"
      },
      "execution_count": null,
      "outputs": []
    },
    {
      "cell_type": "code",
      "source": [
        "## Linear Regression Training and Testing\n",
        "\n",
        "lr_pipe = LinearRegression()\n",
        "lr_pipe.fit(X_train, y_train)\n",
        "y_pred = lr_pipe.predict(X_test)\n",
        "print(f\"RMSE: {round(np.sqrt(metrics.mean_squared_error(y_test, y_pred)), 3)}\")"
      ],
      "metadata": {
        "id": "_xlreTcOOUFr"
      },
      "execution_count": null,
      "outputs": []
    },
    {
      "cell_type": "code",
      "source": [
        "## Visualize Regression Line\n",
        "plt.figure(figsize=(4, 3))\n",
        "plt.scatter(y_test, y_pred)\n",
        "plt.plot([0,50], [0,50], '--k')\n",
        "plt.axis('tight')\n",
        "plt.tight_layout()\n",
        "plt.xlabel('True price ($1000s)')\n",
        "plt.ylabel('Predicted price ($1000s)')\n",
        "plt.show()"
      ],
      "metadata": {
        "id": "jQpToSj-OUJE"
      },
      "execution_count": null,
      "outputs": []
    },
    {
      "cell_type": "code",
      "source": [
        "## Linear Model Coefficient Estimation\n",
        "\n",
        "for idx, col_name in enumerate(X_train.columns):\n",
        "  print(f\"The coefficient for {col_name} is {lr_pipe.coef_[idx]}\")"
      ],
      "metadata": {
        "id": "ROWm831vTHko"
      },
      "execution_count": null,
      "outputs": []
    },
    {
      "cell_type": "code",
      "source": [
        "plt.scatter(lr_pipe.predict(X_train), lr_pipe.predict(X_train)-y_train, c='b', s=40, alpha=0.5)\n",
        "plt.hlines(y=0, xmin=0, xmax=50)\n",
        "plt.xlabel(\"Fitted\")\n",
        "plt.ylabel(\"Residuals\")\n",
        "plt.title(\"Residuals vs fitted\")\n",
        "plt.show()"
      ],
      "metadata": {
        "id": "7H-Ne6TITHnb"
      },
      "execution_count": null,
      "outputs": []
    },
    {
      "cell_type": "code",
      "source": [
        "## Evaluate Linear Regression Model\n",
        "\n",
        "data_tuples = list(zip(y_test, y_pred))\n",
        "real_predict = pd.DataFrame(data_tuples, columns= ['Real', 'Predict'])\n",
        "real_predict['squared_dif'] = (real_predict[\"Real\"]-real_predict[\"Predict\"])**2\n",
        "real_predict.head(3)\n",
        "SSE = sum(real_predict['squared_dif'])\n",
        "TSS = np.var(y_test) * (len(y_test)+1)\n",
        "real_predict.head(3)\n",
        "Rsquared = 1 - SEE/TSS\n",
        "Rsquared"
      ],
      "metadata": {
        "id": "IhJUhFeEUv6k"
      },
      "execution_count": null,
      "outputs": []
    },
    {
      "cell_type": "code",
      "source": [
        "## Prepare for Logistic Regression\n",
        "\n",
        "boston_data2 = boston_data.copy()\n",
        "boston_data2['Price'] = pd.qcut(boston_data2['Price'], 2, labels=[\"low\", \"high\"])\n",
        "X2 = boston_data2.drop('Price', axis=1)\n",
        "y2 = boston_data2['Price']\n",
        "X_train2, X_test2, y_train2, y_test2 = train_test_split(X2, y2, test_size=0.3, random_state=16)\n",
        "boston_data2.Price.value_counts()"
      ],
      "metadata": {
        "id": "S5Kk-e5aUv_w"
      },
      "execution_count": null,
      "outputs": []
    },
    {
      "cell_type": "code",
      "source": [
        "## Logistic Regression Model Training and Testing\n",
        "\n",
        "logr_pipe = make_pipeline(StandardScaler(), LogisticRegression(solver='lbfgs'))\n",
        "logr_pipe.fit(X_train2, y_train2)\n",
        "y_pred2 = logr_pipe.predict(X_test2)\n",
        "y_pred2\n",
        "pd.Series(y_pred2).value_counts()\n",
        "pd.DataFrame(pd.Series(y_pred2).value_counts(), columns=['count']).assign(pct = lambda x: x.count)"
      ],
      "metadata": {
        "id": "Axb35sibW-iI"
      },
      "execution_count": null,
      "outputs": []
    }
  ]
}