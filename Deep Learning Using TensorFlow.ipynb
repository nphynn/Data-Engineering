{
  "nbformat": 4,
  "nbformat_minor": 0,
  "metadata": {
    "colab": {
      "provenance": []
    },
    "kernelspec": {
      "name": "python3",
      "display_name": "Python 3"
    },
    "language_info": {
      "name": "python"
    }
  },
  "cells": [
    {
      "cell_type": "code",
      "execution_count": null,
      "metadata": {
        "id": "kbuELnTKjOZW"
      },
      "outputs": [],
      "source": [
        "## Load Python Packages\n",
        "\n",
        "import pandas as pd\n",
        "import numpy as np\n",
        "from sklearn.tree import DecisionTreeClassifier\n",
        "from sklearn.model_selection import train_test_split, GridSearchCV, cross_val_score, cross_validate, ShuffleSplit, LeaveOneOut\n",
        "from sklearn.metrics import confusion_matrix, classification_report\n",
        "from sklearn.preprocessing import StandardScaler\n",
        "from matplotlib import pyplot as plt\n",
        "import sklearn\n",
        "import keras\n",
        "np.random.seed(66)"
      ]
    },
    {
      "cell_type": "code",
      "source": [
        "# Load and Prepare the Datasets\n",
        "\n",
        "churn = pd.read_csv('https://raw.githubusercontent.com/yhat/demo-churn-pred/master/model/churn.csv')\n",
        "churn['International Plan'] = churn['Int\\'l Plan'].map(dict(yes=1, no=0))\n",
        "churn['VoiceMail Plan'] = churn['VMail Plan'].map(dict(yes=1, no=0))\n",
        "churn.drop(columns=['VMail Plan', 'Int\\'l Plan'], inplace=True)\n",
        "churn.info()"
      ],
      "metadata": {
        "id": "INpSoSjsjRHn"
      },
      "execution_count": null,
      "outputs": []
    },
    {
      "cell_type": "code",
      "source": [
        "num_vars = churn.select_dtypes(['int64', 'float64']).columns\n",
        "X = churn[num_vars]\n",
        "y = churn['Churn?'].map({'True.': 1, 'False.': 0})\n",
        "\n",
        "X_train, X_test, y_train, y_test = train_test_split(X, y, test_size=0.3, random_state=16)\n",
        "\n",
        "X_test.shape\n",
        "y_train.shape"
      ],
      "metadata": {
        "id": "cl4aANbQchCM"
      },
      "execution_count": null,
      "outputs": []
    },
    {
      "cell_type": "code",
      "source": [
        "# Attribute Normalization and Standardization\n",
        "\n",
        "scaler = StandardScaler().fit(X_train)\n",
        "X_train = scaler.transform(X_train)\n",
        "X_test = scaler.transform(X_test)\n",
        "X_train.shape"
      ],
      "metadata": {
        "id": "qR3vJqKSjRO6"
      },
      "execution_count": null,
      "outputs": []
    },
    {
      "cell_type": "code",
      "source": [
        "## Deep Learning Model Architecture\n",
        "\n",
        "import warnings\n",
        "warnings.filterwarnings('ignore')\n",
        "import tensorflow\n",
        "from tensorflow.keras.models import Sequential\n",
        "from tensorflow.keras.layers import Dense\n",
        "\n",
        "model = Sequential()\n",
        "model.add(Dense(6, activation='relu', input_shape=(18, ))) #114 paramteers: (18+1)*6=114\n",
        "model.add(Dense(6, activation='relu')) #42 paramteers: (6+1)*6= 42\n",
        "model.add(Dense(1, activation='sigmoid')) #7 parameters\n",
        "\n",
        "\n",
        "model.output_shape\n",
        "model.summary()\n",
        "model.get_config()\n",
        "model.get_weights()"
      ],
      "metadata": {
        "id": "8AiwObssjRTE"
      },
      "execution_count": null,
      "outputs": []
    },
    {
      "cell_type": "code",
      "source": [
        "# Model Specification and Training\n",
        "\n",
        "model.compile(loss='binary_crossentropy', optimizer='rmsprop', metrics=['accuracy'])\n",
        "history = model.fit(X_train, y_train, epochs=18, batch_size=5) # Consider using validation set"
      ],
      "metadata": {
        "id": "UYLAYZjUnKsi"
      },
      "execution_count": null,
      "outputs": []
    }
  ]
}